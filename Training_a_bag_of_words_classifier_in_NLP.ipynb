{
  "nbformat": 4,
  "nbformat_minor": 0,
  "metadata": {
    "colab": {
      "name": "Training a bag-of-words classifier in NLP.ipynb",
      "provenance": [],
      "authorship_tag": "ABX9TyMRIVNPiNCXediNtzOtMGk0",
      "include_colab_link": true
    },
    "kernelspec": {
      "name": "python3",
      "display_name": "Python 3"
    }
  },
  "cells": [
    {
      "cell_type": "markdown",
      "metadata": {
        "id": "view-in-github",
        "colab_type": "text"
      },
      "source": [
        "<a href=\"https://colab.research.google.com/github/andrewshiva/Training-a-bag-of-words-classifier/blob/master/Training_a_bag_of_words_classifier_in_NLP.ipynb\" target=\"_parent\"><img src=\"https://colab.research.google.com/assets/colab-badge.svg\" alt=\"Open In Colab\"/></a>"
      ]
    },
    {
      "cell_type": "code",
      "metadata": {
        "id": "i6uj0ebtRbJP",
        "colab_type": "code",
        "colab": {
          "base_uri": "https://localhost:8080/",
          "height": 102
        },
        "outputId": "3d8d2f93-fc16-415e-cbdb-091c90c4b0b7"
      },
      "source": [
        "import nltk\n",
        "import numpy as np\n",
        "from nltk import word_tokenize\n",
        "import matplotlib.pyplot as plt\n",
        "%matplotlib inline\n",
        "from sklearn.feature_extraction import DictVectorizer\n",
        "from sklearn.model_selection import train_test_split\n",
        "from sklearn.ensemble import RandomForestClassifier\n",
        "from sklearn.metrics import accuracy_score\n",
        "from sklearn.metrics import confusion_matrix\n",
        "nltk.download('treebank')\n",
        "nltk.download('universal_tagset')\n"
      ],
      "execution_count": 7,
      "outputs": [
        {
          "output_type": "stream",
          "text": [
            "[nltk_data] Downloading package treebank to /root/nltk_data...\n",
            "[nltk_data]   Package treebank is already up-to-date!\n",
            "[nltk_data] Downloading package universal_tagset to /root/nltk_data...\n",
            "[nltk_data]   Package universal_tagset is already up-to-date!\n"
          ],
          "name": "stdout"
        },
        {
          "output_type": "execute_result",
          "data": {
            "text/plain": [
              "True"
            ]
          },
          "metadata": {
            "tags": []
          },
          "execution_count": 7
        }
      ]
    },
    {
      "cell_type": "code",
      "metadata": {
        "id": "feamohBVbDPG",
        "colab_type": "code",
        "colab": {}
      },
      "source": [
        "def sentence_features(st, ix):\n",
        "    d_ft = {}\n",
        "    d_ft['word'] = st[ix]\n",
        "    d_ft['dist_from_first'] = ix - 0\n",
        "    d_ft['dist_from_last'] = len(st) - ix\n",
        "    d_ft['capitalized'] = st[ix][0].upper() == st[ix][0]\n",
        "    d_ft['prefix1'] = st[ix][0]\n",
        "    d_ft['prefix2'] = st[ix][:2]\n",
        "    d_ft['prefix3'] = st[ix][:3]\n",
        "    d_ft['suffix1'] = st[ix][-1]\n",
        "    d_ft['suffix2'] = st[ix][-2:]\n",
        "    d_ft['suffix3'] = st[ix][-3:]\n",
        "    d_ft['prev_word'] = '' if ix==0 else st[ix-1]\n",
        "    d_ft['next_word'] = '' if ix==(len(st)-1) else st[ix+1]\n",
        "    d_ft['numeric'] = st[ix].isdigit()\n",
        "    return d_ft"
      ],
      "execution_count": 0,
      "outputs": []
    },
    {
      "cell_type": "code",
      "metadata": {
        "id": "gdttfCPUbLT6",
        "colab_type": "code",
        "colab": {}
      },
      "source": [
        "def get_untagged_sentence(tagged_sentence):\n",
        "    [s,t] = zip(*tagged_sentence)\n",
        "    return list(s)"
      ],
      "execution_count": 0,
      "outputs": []
    },
    {
      "cell_type": "code",
      "metadata": {
        "id": "awxWHZO4e0A3",
        "colab_type": "code",
        "colab": {}
      },
      "source": [
        "\n",
        "tagged_sentences = nltk.corpus.treebank.tagged_sents(tagset='universal')"
      ],
      "execution_count": 0,
      "outputs": []
    },
    {
      "cell_type": "code",
      "metadata": {
        "id": "T80aL5skfWv5",
        "colab_type": "code",
        "colab": {}
      },
      "source": [
        "def ext_ft(tg_sent):\n",
        "    sent, tag = [], []\n",
        " \n",
        "    for tg in tg_sent:\n",
        "        for index in range(len(tg)):\n",
        "            sent.append(sentence_features(get_untagged_sentence(tg), index))\n",
        "            tag.append(tg[index][1])\n",
        " \n",
        "    return sent, tag"
      ],
      "execution_count": 0,
      "outputs": []
    },
    {
      "cell_type": "code",
      "metadata": {
        "id": "CvxxF1G6ecRK",
        "colab_type": "code",
        "colab": {}
      },
      "source": [
        "\n",
        "X,y = ext_ft(tagged_sentences)\n",
        "n_sample = 20000\n",
        "dict_vectorizer = DictVectorizer(sparse=False)\n",
        "X_transformed = dict_vectorizer.fit_transform(X[0:n_sample])\n",
        "y_sampled = y[0:n_sample]"
      ],
      "execution_count": 0,
      "outputs": []
    },
    {
      "cell_type": "code",
      "metadata": {
        "id": "RR4J3byteG-Z",
        "colab_type": "code",
        "colab": {
          "base_uri": "https://localhost:8080/",
          "height": 153
        },
        "outputId": "f21ca5a4-13cf-44c2-b2fe-ea76585650e5"
      },
      "source": [
        "X_train,X_test,y_train,y_test = train_test_split(X_transformed, y_sampled, test_size=0.2, random_state=123)\n",
        "rf = RandomForestClassifier(n_jobs=4)\n",
        "rf.fit(X_train,y_train)"
      ],
      "execution_count": 13,
      "outputs": [
        {
          "output_type": "execute_result",
          "data": {
            "text/plain": [
              "RandomForestClassifier(bootstrap=True, ccp_alpha=0.0, class_weight=None,\n",
              "                       criterion='gini', max_depth=None, max_features='auto',\n",
              "                       max_leaf_nodes=None, max_samples=None,\n",
              "                       min_impurity_decrease=0.0, min_impurity_split=None,\n",
              "                       min_samples_leaf=1, min_samples_split=2,\n",
              "                       min_weight_fraction_leaf=0.0, n_estimators=100, n_jobs=4,\n",
              "                       oob_score=False, random_state=None, verbose=0,\n",
              "                       warm_start=False)"
            ]
          },
          "metadata": {
            "tags": []
          },
          "execution_count": 13
        }
      ]
    },
    {
      "cell_type": "code",
      "metadata": {
        "id": "trfRG6xrh1dE",
        "colab_type": "code",
        "colab": {}
      },
      "source": [
        "\n",
        "\n",
        "def predict_pos_tags(sentence):\n",
        "    tagged_sentence = []\n",
        "    features = [sentence_features(sentence, index) for index in range(len(sentence))]\n",
        "    features = dict_vectorizer.transform(features)\n",
        "    tags = rf.predict(features)\n",
        "    return zip(sentence, tags)"
      ],
      "execution_count": 0,
      "outputs": []
    },
    {
      "cell_type": "code",
      "metadata": {
        "id": "gW6xuyc3iEQC",
        "colab_type": "code",
        "colab": {
          "base_uri": "https://localhost:8080/",
          "height": 119
        },
        "outputId": "65f8df6b-177f-411d-d1ca-2e01b190e5f9"
      },
      "source": [
        "test_sentence = \"This is a simple POS tagger\"\n",
        "for tagged in predict_pos_tags(test_sentence.split()):\n",
        "    print(tagged)"
      ],
      "execution_count": 15,
      "outputs": [
        {
          "output_type": "stream",
          "text": [
            "('This', 'DET')\n",
            "('is', 'VERB')\n",
            "('a', 'DET')\n",
            "('simple', 'ADJ')\n",
            "('POS', 'NOUN')\n",
            "('tagger', 'NOUN')\n"
          ],
          "name": "stdout"
        }
      ]
    },
    {
      "cell_type": "code",
      "metadata": {
        "id": "abhTt9aviOrG",
        "colab_type": "code",
        "colab": {
          "base_uri": "https://localhost:8080/",
          "height": 34
        },
        "outputId": "a40a0288-6f63-4cf3-a608-cf88229af375"
      },
      "source": [
        "predictions = rf.predict(X_test)\n",
        "accuracy_score(y_test,predictions)"
      ],
      "execution_count": 16,
      "outputs": [
        {
          "output_type": "execute_result",
          "data": {
            "text/plain": [
              "0.93875"
            ]
          },
          "metadata": {
            "tags": []
          },
          "execution_count": 16
        }
      ]
    },
    {
      "cell_type": "code",
      "metadata": {
        "id": "vVnVC8VsiV-O",
        "colab_type": "code",
        "colab": {
          "base_uri": "https://localhost:8080/",
          "height": 597
        },
        "outputId": "ad9a4c5d-da51-4714-fb09-24b98d389e95"
      },
      "source": [
        "conf_matrix = confusion_matrix(y_test,predictions)\n",
        "plt.figure(figsize=(10,10))\n",
        "plt.xticks(np.arange(len(rf.classes_)),rf.classes_)\n",
        "plt.yticks(np.arange(len(rf.classes_)),rf.classes_)\n",
        "plt.imshow(conf_matrix,cmap=plt.cm.Blues)\n",
        "plt.colorbar()"
      ],
      "execution_count": 17,
      "outputs": [
        {
          "output_type": "execute_result",
          "data": {
            "text/plain": [
              "<matplotlib.colorbar.Colorbar at 0x7fdc342e4cc0>"
            ]
          },
          "metadata": {
            "tags": []
          },
          "execution_count": 17
        },
        {
          "output_type": "display_data",
          "data": {
            "image/png": "[encoded data removed]",
            "text/plain": [
              "<Figure size 720x720 with 2 Axes>"
            ]
          },
          "metadata": {
            "tags": [],
            "needs_background": "light"
          }
        }
      ]
    },
    {
      "cell_type": "code",
      "metadata": {
        "id": "5ZO6gSd9iqqp",
        "colab_type": "code",
        "colab": {
          "base_uri": "https://localhost:8080/",
          "height": 54
        },
        "outputId": "dc8b244c-4bf3-4f77-ccc3-868369a2d9f8"
      },
      "source": [
        "feature_list = zip(dict_vectorizer.get_feature_names(),rf.feature_importances_)\n",
        "sorted_features = sorted(feature_list,key=lambda x: x[1], reverse=True)\n",
        "print(sorted_features[0:20])"
      ],
      "execution_count": 18,
      "outputs": [
        {
          "output_type": "stream",
          "text": [
            "[('prefix1=*', 0.015673449130299336), ('dist_from_last', 0.014700771700005633), ('suffix2=he', 0.014324404714303678), ('capitalized', 0.01424536600695331), ('suffix2=,', 0.011706248135464939), ('suffix2=ed', 0.010803537737873722), ('suffix3=the', 0.010315603953479968), ('dist_from_first', 0.01006334828394386), ('prefix2=,', 0.00942986335796657), ('suffix1=d', 0.00912851436161729), ('prefix1=,', 0.008159331521350115), ('prefix2=th', 0.0075087062900253765), ('prefix3=the', 0.00746504485327289), ('word=the', 0.007368615916565803), ('suffix3=.', 0.00701819014033792), ('suffix3=,', 0.006913190529033533), ('prefix1=t', 0.006772844668264541), ('suffix1=s', 0.006561047151663154), ('suffix1=,', 0.006400468919372318), ('word=,', 0.006326315671056836)]\n"
          ],
          "name": "stdout"
        }
      ]
    }
  ]
}